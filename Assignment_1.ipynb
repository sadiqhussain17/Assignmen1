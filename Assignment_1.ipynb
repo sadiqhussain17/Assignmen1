{
 "cells": [
  {
   "cell_type": "code",
   "execution_count": 11,
   "metadata": {},
   "outputs": [
    {
     "name": "stdout",
     "output_type": "stream",
     "text": [
      "Input radius3.5\n",
      "Area of Circle with radius 3.5\n",
      "is  38.465\n"
     ]
    }
   ],
   "source": [
    "#Q1) Calculate Area of Circle\n",
    "pi=3.14;\n",
    "r= float(input(\"Input radius\"))\n",
    "area=pi*r*r;\n",
    "print(\"Area of Circle with radius\",r)\n",
    "print(\"is \",area);"
   ]
  },
  {
   "cell_type": "code",
   "execution_count": 2,
   "metadata": {},
   "outputs": [
    {
     "name": "stdout",
     "output_type": "stream",
     "text": [
      "Enter number:-1\n",
      "Negative Number Entered\n"
     ]
    }
   ],
   "source": [
    "#Q2 Check number is positive or not\n",
    "num=float(input(\"Enter number:\"))\n",
    "if num>0:\n",
    "    print(\"Positve Nummber Entered\")\n",
    "elif num==0:\n",
    "    print(\"Zero Entered.\")\n",
    "else:\n",
    "    print(\"Negative Number Entered\")"
   ]
  },
  {
   "cell_type": "markdown",
   "metadata": {},
   "source": [
    "#### "
   ]
  },
  {
   "cell_type": "code",
   "execution_count": 13,
   "metadata": {},
   "outputs": [
    {
     "name": "stdout",
     "output_type": "stream",
     "text": [
      "Enter numerator4\n",
      "Enter denominator2\n",
      "Number is completely divisible\n"
     ]
    }
   ],
   "source": [
    "#Q3 Divisiblity Check of two numbers\n",
    "numerator=int(input(\"Enter numerator\"))\n",
    "denominator=int(input(\"Enter denominator\"))\n",
    "if numerator%denominator==0:\n",
    "    print(\"Number is completely divisible\")\n",
    "else:\n",
    "    print(\"Number is not divisible\")\n",
    "    "
   ]
  },
  {
   "cell_type": "code",
   "execution_count": 19,
   "metadata": {},
   "outputs": [
    {
     "name": "stdout",
     "output_type": "stream",
     "text": [
      "Enter date in (dd/mm/yy): 12/02/19\n",
      "Enter date in (dd/mm/yy): 12/03/19\n"
     ]
    },
    {
     "ename": "TypeError",
     "evalue": "unsupported operand type(s) for -: 'str' and 'str'",
     "output_type": "error",
     "traceback": [
      "\u001b[1;31m---------------------------------------------------------------------------\u001b[0m",
      "\u001b[1;31mTypeError\u001b[0m                                 Traceback (most recent call last)",
      "\u001b[1;32m<ipython-input-19-828c0b9a66f3>\u001b[0m in \u001b[0;36m<module>\u001b[1;34m\u001b[0m\n\u001b[0;32m      8\u001b[0m \u001b[1;31m#finalEndDate= datetime.strptime(endDate,\"%d/%m/%Y\").date()\u001b[0m\u001b[1;33m\u001b[0m\u001b[1;33m\u001b[0m\u001b[1;33m\u001b[0m\u001b[0m\n\u001b[0;32m      9\u001b[0m \u001b[1;33m\u001b[0m\u001b[0m\n\u001b[1;32m---> 10\u001b[1;33m \u001b[0mremainingDays\u001b[0m \u001b[1;33m=\u001b[0m\u001b[0mendDate\u001b[0m \u001b[1;33m-\u001b[0m\u001b[0mfirstDate\u001b[0m\u001b[1;33m\u001b[0m\u001b[1;33m\u001b[0m\u001b[0m\n\u001b[0m\u001b[0;32m     11\u001b[0m \u001b[0mprint\u001b[0m\u001b[1;33m(\u001b[0m\u001b[0mremainingDays\u001b[0m\u001b[1;33m)\u001b[0m\u001b[1;33m\u001b[0m\u001b[1;33m\u001b[0m\u001b[0m\n\u001b[0;32m     12\u001b[0m \u001b[1;33m\u001b[0m\u001b[0m\n",
      "\u001b[1;31mTypeError\u001b[0m: unsupported operand type(s) for -: 'str' and 'str'"
     ]
    }
   ],
   "source": [
    "#Q4 Days Calculator\n",
    "from datetime import datetime\n",
    "\n",
    "firstDate = input(\"Enter date in (dd/mm/yy): \")\n",
    "endDate = input(\"Enter date in (dd/mm/yy): \")\n",
    "\n",
    "remainingDays =endDate -firstDate\n",
    "print(remainingDays)"
   ]
  },
  {
   "cell_type": "code",
   "execution_count": 24,
   "metadata": {},
   "outputs": [
    {
     "name": "stdout",
     "output_type": "stream",
     "text": [
      "Enter value of radius: 1\n",
      "Volume of Sphere with radius is  4.1866666666666665\n"
     ]
    }
   ],
   "source": [
    "#Q5 Calculate Volume of Sphere\n",
    "pi=3.14\n",
    "radius= float(input(\"Enter value of radius: \"))\n",
    "r=radius*radius*radius\n",
    "volume = 4.0/3.0*pi*r\n",
    "print(\"Volume of Sphere with radius is \" , volume)"
   ]
  },
  {
   "cell_type": "code",
   "execution_count": 26,
   "metadata": {},
   "outputs": [
    {
     "name": "stdout",
     "output_type": "stream",
     "text": [
      "Enter string:Sadiq\n",
      "How many copies of string you need:7\n",
      "SadiqSadiqSadiqSadiqSadiqSadiqSadiq\n"
     ]
    }
   ],
   "source": [
    "#Q6) Copy String n times\n",
    "x= str(input (\"Enter string:\"))\n",
    "result=\"\"\n",
    "y=int(input(\"How many copies of string you need:\"))\n",
    "print(y*x)"
   ]
  },
  {
   "cell_type": "code",
   "execution_count": null,
   "metadata": {},
   "outputs": [],
   "source": [
    "#Q7) Check if number is Even or Odd\n",
    "num = int(input(\"Enter Number: \"))\n",
    "mod=num%2\n",
    "if mod > 0:\n",
    "     print(num,\"is Odd\")\n",
    "else:\n",
    "    print(num,\"is Even\")"
   ]
  },
  {
   "cell_type": "code",
   "execution_count": 5,
   "metadata": {},
   "outputs": [
    {
     "name": "stdout",
     "output_type": "stream",
     "text": [
      "Enter A Character: A\n",
      "A  is Vowel\n"
     ]
    }
   ],
   "source": [
    "#Q8)Count Vowels\n",
    "vowels = ['A','E','I','O','U','a','e','i','o','u']\n",
    "string = input(\"Enter A Character: \")\n",
    "\n",
    "if string in vowels:\n",
    "    print(string, \" is Vowel\")\n",
    "else:\n",
    "    print(string,\" is not Vowel\")"
   ]
  },
  {
   "cell_type": "code",
   "execution_count": 6,
   "metadata": {},
   "outputs": [
    {
     "name": "stdout",
     "output_type": "stream",
     "text": [
      "Enter magnitude of Triangle base: 2.4\n",
      "Enter Magnitude of Triangle Height: 4\n",
      "Area of a Triangle with Height  4.0  and Base  2.4  is:  4.8\n"
     ]
    }
   ],
   "source": [
    "#9 Triangle Area\n",
    "base = float(input(\"Enter magnitude of Triangle base: \"))\n",
    "height = float(input(\"Enter Magnitude of Triangle Height: \"))\n",
    "area = base*height/2\n",
    "print(\"Area of a Triangle with Height \",height, \" and Base \",base,\" is: \",area)"
   ]
  },
  {
   "cell_type": "code",
   "execution_count": 7,
   "metadata": {},
   "outputs": [
    {
     "name": "stdout",
     "output_type": "stream",
     "text": [
      "Please enter principal amount: 10000\n",
      "Please Enter Rate of interest in %: 0.1\n",
      "Enter number of years for investment: 5\n",
      "16105.100000000006\n"
     ]
    }
   ],
   "source": [
    "#10 Calculate Interest\n",
    "p = float(input(\"Please enter principal amount: \"))\n",
    "r = float(input(\"Please Enter Rate of interest in %: \"))\n",
    "t = float(input(\"Enter number of years for investment: \"))\n",
    "intrest = p* (pow((1 + r*100 / 100), t))\n",
    "print(intrest)"
   ]
  },
  {
   "cell_type": "code",
   "execution_count": 8,
   "metadata": {},
   "outputs": [
    {
     "name": "stdout",
     "output_type": "stream",
     "text": [
      "Enter Co-Ordinate For x1 :2\n",
      "Enter Co-Ordinate For x2 :4\n",
      "Enter Co-Ordinate For y1 :4\n",
      "Enter Co-Ordinate For y2 :4\n",
      "Distance between points ( 2 , 4 ) and ( 4 , 4 ) is 2.0\n"
     ]
    }
   ],
   "source": [
    "#11 Euclidean Distcance\n",
    "import math\n",
    "x1 = int(input(\"Enter Co-Ordinate For x1 :\"))\n",
    "x2 = int(input(\"Enter Co-Ordinate For x2 :\"))\n",
    "y1 = int(input(\"Enter Co-Ordinate For y1 :\"))\n",
    "y2 = int(input(\"Enter Co-Ordinate For y2 :\"))\n",
    "\n",
    "distance = math.sqrt( ((x1-y1)**2)+((x2-y2)**2) )\n",
    "print(\"Distance between points (\",x1,\",\",y1,\") and (\",x2,\",\",y2,\") is\",distance )"
   ]
  },
  {
   "cell_type": "code",
   "execution_count": 10,
   "metadata": {},
   "outputs": [
    {
     "name": "stdout",
     "output_type": "stream",
     "text": [
      "Enter Height in feet5\n",
      "There are  152.4 Cm in 5.0 ft\n"
     ]
    }
   ],
   "source": [
    "#12 Feet to centimeter Converter\n",
    "height = float(input(\"Enter Height in feet\"))\n",
    "\n",
    "t_Cm = height * 30.48\n",
    "\n",
    "print(\"There are \",t_Cm , \"Cm in\",height,\"ft\")"
   ]
  },
  {
   "cell_type": "code",
   "execution_count": 11,
   "metadata": {},
   "outputs": [
    {
     "name": "stdout",
     "output_type": "stream",
     "text": [
      "Enter Your Height in Cm180\n",
      "Enter Your Weight in kg75\n",
      "Your BMI is 23.148148148148145\n"
     ]
    }
   ],
   "source": [
    "#13 BMI Calculator\n",
    "height = float(input(\"Enter Your Height in Cm\"))\n",
    "weight = float(input(\"Enter Your Weight in kg\"))\n",
    "\n",
    "heightInMeters = height * 0.01\n",
    "BMI = weight / (heightInMeters * heightInMeters)\n",
    "print(\"Your BMI is\",BMI)"
   ]
  },
  {
   "cell_type": "code",
   "execution_count": 14,
   "metadata": {},
   "outputs": [
    {
     "ename": "SyntaxError",
     "evalue": "invalid syntax (<ipython-input-14-5288d1ccfa8d>, line 4)",
     "output_type": "error",
     "traceback": [
      "\u001b[1;36m  File \u001b[1;32m\"<ipython-input-14-5288d1ccfa8d>\"\u001b[1;36m, line \u001b[1;32m4\u001b[0m\n\u001b[1;33m    if number >10 && number < 99:\u001b[0m\n\u001b[1;37m                   ^\u001b[0m\n\u001b[1;31mSyntaxError\u001b[0m\u001b[1;31m:\u001b[0m invalid syntax\n"
     ]
    }
   ],
   "source": [
    "#14 Sum of n Positive Number\n",
    "sumNumber = 0\n",
    "number =int(input(\"Enter Number\"))\n",
    "if number >10 && number < 99:\n",
    "    num1=number%10;\n",
    "    num2=number/10;\n",
    "    total=num1+num2;\n",
    "    print(\"Sum of\",num2,\"+\",num1,\"is\",total)\n",
    "elif number >99 && number < 1000:\n",
    "    num1=number/100;\n",
    "    num2=number%100;\n",
    "    num2=num2/10;\n",
    "    num3=number%10;    \n",
    "    total=num1+num2+num3;\n",
    "    print(\"Sum of\",num1,\"+\",num2,\"+\",num3,\"is\",total)\n",
    "\n",
    "    "
   ]
  },
  {
   "cell_type": "code",
   "execution_count": 15,
   "metadata": {},
   "outputs": [
    {
     "name": "stdout",
     "output_type": "stream",
     "text": [
      "Enter a decimal number 5\n",
      "Binary Representation of  5  is  101 "
     ]
    }
   ],
   "source": [
    "#16 Decimal To Binary Converter\n",
    "decimalNumber = int(input(\"Enter a decimal number \"))\n",
    "finalDecimalNumber = decimalNumber\n",
    "array=[]\n",
    "\n",
    "while(decimalNumber>0):\n",
    "    digit=decimalNumber%2\n",
    "    array.append(digit)\n",
    "    decimalNumber=decimalNumber//2\n",
    "    s = [str(i) for i in array] \n",
    "  \n",
    "    res = int(\"\".join(s))     \n",
    "array.reverse()\n",
    "\n",
    "print(\"Binary Representation of \", finalDecimalNumber,\" is \",res,end=\" \")"
   ]
  },
  {
   "cell_type": "code",
   "execution_count": 16,
   "metadata": {},
   "outputs": [
    {
     "name": "stdout",
     "output_type": "stream",
     "text": [
      "Enter a Binary number 101\n",
      "Decimal Representation of  101  is  5\n"
     ]
    }
   ],
   "source": [
    "#17 Binary To Decimal Converter\n",
    "binaryNumber = input(\"Enter a Binary number \")\n",
    "binaryNumberList = list(binaryNumber)\n",
    "defaultValue = 0\n",
    "actualNumber = str(binaryNumber)\n",
    "\n",
    "for d in range(len(binaryNumberList)):\n",
    "    numbers = binaryNumberList.pop()\n",
    "    if numbers == '1':\n",
    "        defaultValue = defaultValue + pow(2, d)\n",
    "print(\"Decimal Representation of \", actualNumber,\" is \" ,defaultValue)"
   ]
  },
  {
   "cell_type": "code",
   "execution_count": 17,
   "metadata": {},
   "outputs": [
    {
     "name": "stdout",
     "output_type": "stream",
     "text": [
      "Enter Text QuickBrownFozJumpsovertheDog\n",
      "Vowels :  9\n",
      "Consonants :  19\n"
     ]
    }
   ],
   "source": [
    "#18 Vowel and Consonants Counter \n",
    "string = input(\"Enter Text \")\n",
    "vowels = 0\n",
    "consonants = 0\n",
    "for i in string:\n",
    "    if(i == 'a' or i == 'e' or i == 'i' or i == 'o' or i == 'u'\n",
    "       or i == 'A' or i == 'E' or i == 'I' or i == 'O' or i == 'U'):\n",
    "        vowels = vowels + 1\n",
    "    else:\n",
    "        consonants = consonants + 1\n",
    "\n",
    "print(\"Vowels : \",vowels)\n",
    "print(\"Consonants : \",consonants)"
   ]
  },
  {
   "cell_type": "code",
   "execution_count": 18,
   "metadata": {},
   "outputs": [
    {
     "name": "stdout",
     "output_type": "stream",
     "text": [
      "Enter Text :Hello\n",
      "Text  Hello  is not Palindrome\n"
     ]
    }
   ],
   "source": [
    "#19 Palindrome tester \n",
    "string = input(\"Enter Text :\")\n",
    "palindrome = string[::-1]\n",
    "if string == palindrome:\n",
    "    print(\"Text \" , string,\" is Palindrome\")\n",
    "else:\n",
    "    print(\"Text \" , string,\" is not Palindrome\")"
   ]
  },
  {
   "cell_type": "code",
   "execution_count": 21,
   "metadata": {},
   "outputs": [
    {
     "name": "stdout",
     "output_type": "stream",
     "text": [
      "Please Enter your Own String : Python 3.2\n",
      "Number = 2\n",
      "Alphabets =  6\n",
      "Special Characters = 1\n",
      "Spaces =   1\n"
     ]
    }
   ],
   "source": [
    "#20 Count Alphabets, Numbers and Special Characters  \n",
    "userInput = input(\"Please Enter your Own String : \")\n",
    "alphabets = digits = special = 0\n",
    "spaces = userInput.count(' ')\n",
    "for i in range(len(userInput)):\n",
    "    if(userInput[i].isalpha()):\n",
    "        alphabets = alphabets + 1\n",
    "    elif(userInput[i].isdigit()):\n",
    "        digits = digits + 1\n",
    "    else:\n",
    "        special = special + 1\n",
    "\n",
    "specialCharacter = special - spaces\n",
    "print(\"Number =\",digits)\n",
    "print(\"Alphabets = \",alphabets)\n",
    "print(\"Special Characters =\",specialCharacter) \n",
    "print(\"Spaces =  \",spaces)"
   ]
  },
  {
   "cell_type": "code",
   "execution_count": 22,
   "metadata": {},
   "outputs": [
    {
     "name": "stdout",
     "output_type": "stream",
     "text": [
      "\n",
      "* \n",
      "* * \n",
      "* * * \n",
      "* * * * \n",
      "* * * * * \n",
      "* * * * \n",
      "* * * \n",
      "* * \n",
      "* \n"
     ]
    }
   ],
   "source": [
    "#21 Pattern 1\n",
    "number=5;\n",
    "for i in range(number):\n",
    "    for j in range(i):\n",
    "        print ('* ', end=\"\")\n",
    "        \n",
    "    print('')\n",
    "\n",
    "for i in range(number,0,-1):\n",
    "    for j in range(i):\n",
    "        print('* ', end=\"\")\n",
    "    print('')"
   ]
  },
  {
   "cell_type": "code",
   "execution_count": 23,
   "metadata": {},
   "outputs": [
    {
     "name": "stdout",
     "output_type": "stream",
     "text": [
      "\n",
      "1\n",
      "12\n",
      "123\n",
      "1234\n",
      "12345\n",
      "1234\n",
      "123\n",
      "12\n",
      "1\n"
     ]
    }
   ],
   "source": [
    "#22  Pattern 2 \n",
    "\n",
    "number=5\n",
    "random = 1\n",
    "for i in range(number):\n",
    "    for j in range(i):\n",
    "        print (j+1, end=\"\")\n",
    "    \n",
    "    print('')\n",
    "\n",
    "for i in range(5,0,-1):\n",
    "    for j in range(i):\n",
    "        print(j+1, end=\"\")\n",
    "    print('')"
   ]
  },
  {
   "cell_type": "code",
   "execution_count": 24,
   "metadata": {},
   "outputs": [
    {
     "name": "stdout",
     "output_type": "stream",
     "text": [
      "\n",
      "1\n",
      "22\n",
      "333\n",
      "4444\n",
      "55555\n",
      "666666\n",
      "7777777\n",
      "88888888\n",
      "999999999\n"
     ]
    }
   ],
   "source": [
    "#23 Pattern 3\n",
    "for i in range(10):\n",
    "    print(str(i) * i)"
   ]
  },
  {
   "cell_type": "code",
   "execution_count": null,
   "metadata": {},
   "outputs": [],
   "source": []
  }
 ],
 "metadata": {
  "kernelspec": {
   "display_name": "Python 3",
   "language": "python",
   "name": "python3"
  },
  "language_info": {
   "codemirror_mode": {
    "name": "ipython",
    "version": 3
   },
   "file_extension": ".py",
   "mimetype": "text/x-python",
   "name": "python",
   "nbconvert_exporter": "python",
   "pygments_lexer": "ipython3",
   "version": "3.7.3"
  }
 },
 "nbformat": 4,
 "nbformat_minor": 2
}
